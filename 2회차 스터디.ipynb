{
  "nbformat": 4,
  "nbformat_minor": 0,
  "metadata": {
    "colab": {
      "name": "Untitled0.ipynb",
      "provenance": [],
      "toc_visible": true,
      "authorship_tag": "ABX9TyOfRywdIwo1+fDmhGgakOVq",
      "include_colab_link": true
    },
    "kernelspec": {
      "name": "python3",
      "display_name": "Python 3"
    },
    "language_info": {
      "name": "python"
    }
  },
  "cells": [
    {
      "cell_type": "markdown",
      "metadata": {
        "id": "view-in-github",
        "colab_type": "text"
      },
      "source": [
        "<a href=\"https://colab.research.google.com/github/zqudgns/zqudgns/blob/main/2%ED%9A%8C%EC%B0%A8%20%EC%8A%A4%ED%84%B0%EB%94%94.ipynb\" target=\"_parent\"><img src=\"https://colab.research.google.com/assets/colab-badge.svg\" alt=\"Open In Colab\"/></a>"
      ]
    },
    {
      "cell_type": "markdown",
      "source": [
        "# 2022-01-18\n"
      ],
      "metadata": {
        "id": "zxjv8875bL13"
      }
    },
    {
      "cell_type": "markdown",
      "source": [
        "## 1. 마크다운\n",
        "---"
      ],
      "metadata": {
        "id": "PwQEsqPSbsHF"
      }
    },
    {
      "cell_type": "markdown",
      "source": [
        "## 2. 블록슈트\n",
        "---\n",
        "\n",
        "### 인용문   \n",
        "### > 꺽새 앞쪽에 색칠\n",
        "> 안녕?   \n",
        ">> 안녀\n",
        "\n",
        "### 1. 숫자목록\n",
        "1. 안녕1\n",
        "2. 안녕2\n",
        "\n",
        "### - 동그라미목록\n",
        "- hi1\n",
        "  - hi in hi\n",
        "* 하이하이\n",
        "+ 아이고\n",
        "\n",
        "### ?\n",
        "This is a normal paragraph:\n",
        "    This is a code block.\n",
        "end code block.\n",
        "\n",
        "### ?\n",
        "```python\n",
        "print(1)\n",
        "```\n",
        "\n",
        "### 곱하기\n",
        "<hr/>\n",
        "-\n",
        "\n",
        "### 링크\n",
        "[naver](http://www.naver.com)\n",
        "\n",
        "### 강조\n",
        "*강조*   \n",
        "_강조_   \n",
        "**강조**   \n",
        "__강조__   \n",
        "~~강조~~   \n",
        "\n",
        "### 이미지링크\n",
        "![오리](https://search.pstatic.net/common/?src=http%3A%2F%2Fblogfiles.naver.net%2FMjAyMTA2MTRfOCAg%2FMDAxNjIzNjc3MDY5MTU1.Ufkyq9XBHqpHVWmF3ALGmP-BcyNTOsLWSK4l0KednJwg.w6ggh9SipWm6V-RupmVA75QuPkVDeWl936ut1fdPZtMg.JPEG.graystar81%2F5N5A1551_r.jpg&type=sc960_832)\n",
        "\n",
        "### 표\n",
        "|순번|이름|먼데|\n",
        "|---|---|---|\n",
        "|1|오경석|\n",
        "|2|임병훈|\n",
        "|2|임병훈|\n",
        "|2|임병훈|\n"
      ],
      "metadata": {
        "id": "fXWBRcPqcqeo"
      }
    },
    {
      "cell_type": "markdown",
      "source": [
        "## 3. Git\n",
        "---\n",
        "\n",
        "COMMIT   \n",
        "PUSH   \n",
        "PULL   \n",
        "CLONE\n"
      ],
      "metadata": {
        "id": "1ZEAuLmcifWJ"
      }
    },
    {
      "cell_type": "code",
      "source": [
        ""
      ],
      "metadata": {
        "id": "JNZ5O-lalF-C"
      },
      "execution_count": null,
      "outputs": []
    }
  ]
}